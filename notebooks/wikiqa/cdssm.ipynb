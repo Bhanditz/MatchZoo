{
 "cells": [
  {
   "cell_type": "markdown",
   "metadata": {},
   "source": [
    "### Build a Convolutional Deep Semantic Structured Model (CDSSM)\n",
    "\n",
    "<img src=\"https://github.com/NTMC-Community/MatchZoo/blob/2.0/artworks/matchzoo-logo.png?raw=True\" alt=\"logo\" style=\"width:600px;float: center\"/>\n",
    "\n",
    "This is a tutorial on training *Convolutional-DSSM* [Shen et al. 2014](https://www.microsoft.com/en-us/research/publication/a-latent-semantic-model-with-convolutional-pooling-structure-for-information-retrieval/) model with [MatchZoo](https://github.com/NTMC-Community/MatchZoo). We use [WikiQA](https://aclweb.org/anthology/D15-1237) as the example benchmark data set to show the usage.\n",
    "\n",
    "Beyond *DSSM* [Huang et al. 2013](https://www.microsoft.com/en-us/research/wp-content/uploads/2016/02/cikm2013_DSSM_fullversion.pdf), *CDSSM* uses the convolutional struction to extract both local contextual features at the word-n-gram level and global contextual features at the sentence-level.\n",
    "\n",
    "*To walk through this notebook, you need approx 40 minutes.*\n",
    "\n",
    "-------"
   ]
  },
  {
   "cell_type": "markdown",
   "metadata": {},
   "source": [
    "**TL;DR**\n",
    "\n",
    "The following code block illustrates the main workflow of how to train a CDSSM model. \n",
    "\n",
    "```python\n",
    "from matchzoo import preprocessor\n",
    "from matchzoo import generators\n",
    "from matchzoo import models\n",
    "\n",
    "train, test = ... # prepare your training data and test data.\n",
    "\n",
    "# prepare data preprocessor\n",
    "# data preprocessor output the format required by CDSSM\n",
    "cdssm_preprocessor = preprocessor.CDSSMPreprocessor()\n",
    "processed_tr = cdssm_preprocessor.fit_transform(train, stage='train')\n",
    "processed_te = cdssm_preprocessor.fit_transform(test, stage='predict')\n",
    "# required data information stored in `context`\n",
    "input_shapes = processed_tr.context['input_shapes']\n",
    "\n",
    "# data generator controls data batch format\n",
    "generator_tr = generators.PointGenerator(processed_tr)\n",
    "generator_te = generators.PointGenerator(processed_te)\n",
    "\n",
    "cdssm_model = models.CDSSMModel()\n",
    "# set model parameters\n",
    "cdssm_model.params['input_shapes'] = input_shapes\n",
    "# fill missing model parameters by default value\n",
    "cdssm_model.guess_and_fill_missing_params()\n",
    "cdssm_model.build()\n",
    "cdssm_model.compile()\n",
    "# train\n",
    "cdssm_model.fit_generator(generator_tr)\n",
    "# predict the first batch in test set\n",
    "X_te, y_te = generator_te[0]\n",
    "predictions = cdssm_model.predict([X_te.text_left, X_te.text_right])\n",
    "```\n",
    "\n",
    "-----"
   ]
  },
  {
   "cell_type": "markdown",
   "metadata": {},
   "source": [
    "MatchZoo expect a list of *Quintuple* as training data:\n",
    "\n",
    "```python\n",
    "train = [('qid0', 'did0', 'query 0', 'document 0', 'label 0'),\n",
    "         ('qid0', 'did1', 'query 0', 'document 1', 'label 1'),\n",
    "          ...,\n",
    "         ('qid1', 'did2', 'query 1', 'document 2', 'label 3')]\n",
    "```\n",
    "\n",
    "The corresponded columns are `(text_left_id, text_right_id, text_left, text_right, label)`. For Information Retrieval task, *text_left* is referred as *query*, and *text_right* is document.\n",
    "\n",
    "For the test case, MatchZoo expect a list of *Quadruple* (we do not need labels) as input:\n",
    "\n",
    "```python\n",
    "test = [('qid9', 'did5', 'query 9', 'document 5'),\n",
    "         ...,\n",
    "        ('qid2', 'did7', 'query 2', 'document 7')]\n",
    "```"
   ]
  },
  {
   "cell_type": "markdown",
   "metadata": {},
   "source": [
    "### Table of Content\n",
    "\n",
    "+ Prepare WikiQA dataset\n",
    "+ Preprocessing\n",
    "+ Data Generator\n",
    "+ Model Training\n",
    "    - Initialize\n",
    "    - Hyper-Parameters\n",
    "    - Model training\n",
    "    - Make Prediction\n",
    "    - Model Persistence\n",
    "- Reference"
   ]
  },
  {
   "cell_type": "markdown",
   "metadata": {},
   "source": [
    "### Prepare WikiQA dataset\n",
    "\n",
    "We take WikiQA as the example benchmark dataset to show the usage of MatchZoo.\n",
    "\n",
    "Firstly you need to downlowd the data and uncompress the data, we provided the following script to help you download the dataset into `MatchZoo/data/WikiQA` folder, and convert the format to MatchZoo required. You can change the dataset path according to your needs.\n",
    "\n",
    "The WikiQA dataset has format as:\n",
    "\n",
    "`QuestionID\\tQuestion\\tDocumentID\\tDocumentTitle\\tSentenceID\\tSentence\\tLabel`"
   ]
  },
  {
   "cell_type": "code",
   "execution_count": 1,
   "metadata": {},
   "outputs": [],
   "source": [
    "import os\n",
    "\n",
    "data_folder = '../../data/WikiQA/'\n",
    "\n",
    "if not os.path.exists(data_folder):\n",
    "    cmd = 'mkdir -p {}\\n'.format(data_folder) \\\n",
    "          +'cd {}\\n'.format(data_folder) \\\n",
    "          +'wget https://download.microsoft.com/download/E/5/F/E5FCFCEE-7005-4814-853D-DAA7C66507E0/WikiQACorpus.zip\\n' \\\n",
    "          +'unzip WikiQACorpus.zip\\n'\n",
    "    print ('download WikiQA data... \\n', cmd)\n",
    "    os.system(cmd)\n",
    "    \n",
    "# convert dataset format to MatchZoo required format\n",
    "def read_data(input, stage):\n",
    "    output_list = []\n",
    "    index = 0\n",
    "    with open(input) as fin:\n",
    "        for l in fin:\n",
    "            tok = l.split('\\t')\n",
    "            # skip dataset file first line\n",
    "            if index != 0:\n",
    "                if stage == 'test':\n",
    "                    output_list.append((tok[0], tok[4], tok[1], tok[5])) # qid, did, q, d\n",
    "                else:\n",
    "                    output_list.append((tok[0], tok[4], tok[1], tok[5], tok[6])) # qid, did, q, d, label \n",
    "            index += 1\n",
    "    return output_list\n",
    "\n",
    "train = read_data(data_folder + 'WikiQACorpus/WikiQA-train.tsv', stage='train')\n",
    "dev   = read_data(data_folder + 'WikiQACorpus/WikiQA-dev.tsv', stage='dev')\n",
    "test  = read_data(data_folder + 'WikiQACorpus/WikiQA-test.tsv', stage='test')"
   ]
  },
  {
   "cell_type": "markdown",
   "metadata": {},
   "source": [
    "### Preprocessing\n",
    "\n",
    "You can pre-process your data to fit CDSSM input in just three lines."
   ]
  },
  {
   "cell_type": "code",
   "execution_count": 2,
   "metadata": {},
   "outputs": [
    {
     "name": "stderr",
     "output_type": "stream",
     "text": [
      "Using TensorFlow backend.\n",
      "/Users/zhen/anaconda/anaconda3/envs/matchzoo/lib/python3.6/importlib/_bootstrap.py:219: RuntimeWarning: compiletime version 3.5 of module 'tensorflow.python.framework.fast_tensor_util' does not match runtime version 3.6\n",
      "  return f(*args, **kwds)\n",
      "Start building vocabulary & fitting parameters.\n",
      "2118it [00:00, 4115.81it/s]\n",
      "18841it [00:07, 2674.32it/s]\n",
      "Start processing input data for train stage.\n",
      "2118it [00:23, 88.64it/s]\n",
      "18841it [07:41, 40.86it/s]\n",
      "Start processing input data for predict stage.\n",
      "633it [00:07, 87.38it/s]\n",
      "5961it [02:23, 41.40it/s]\n"
     ]
    }
   ],
   "source": [
    "# Initialize a cdssm preprocessor.\n",
    "from matchzoo import preprocessor\n",
    "cdssm_preprocessor = preprocessor.CDSSMPreprocessor()\n",
    "processed_tr = cdssm_preprocessor.fit_transform(train, stage='train')\n",
    "processed_te = cdssm_preprocessor.fit_transform(test, stage='predict')"
   ]
  },
  {
   "cell_type": "markdown",
   "metadata": {},
   "source": [
    "**What is `processed_tr`?**\n",
    "\n",
    "`processed_tr` is a **MatchZoo DataPack** data structure (see `matchzoo/datapack.py`). It contains \n",
    "1. A *2-columns* `pandas DataFrame` called `left` to host all the pre-processed records including index and processed text to store `text_left` and `id_left`.\n",
    "2. A *2-columns* `pandas DataFrame` called `right` to host all the pre-processed records including index and processed text to store `text_right` and `id_right`.\n",
    "3. A *2-columns* `pandas DataFrame` called `relation` to host all the pre-processed records including index and index mapping `id_left` and `id_right`.\n",
    "4. A `context` property (dictionary) consists of all the parameters fitted during pre-processing. \n",
    "\n",
    "The `fit_transform` method is a linear combination of two methods:\n",
    "\n",
    "1. Fit parameters using the `fit` function, this only happens when `stage='train'`.\n",
    "2. Transform data into expected format.\n",
    "\n",
    "So the previous three lines code can also be written as:\n",
    "\n",
    "```python\n",
    "# Initialize a cdssm preprocessor.\n",
    "from matchzoo import preprocessor\n",
    "cdssm_preprocessor = preprocessor.CDSSMPreprocessor()\n",
    "processed_tr = cdssm_preprocessor.fit_transform(train, stage='train')\n",
    "# We do not need to fit any parameters during the testing stage.\n",
    "# So we can call transform directly.\n",
    "processed_te = cdssm_preprocessor.transform(test, stage='predict')\n",
    "```"
   ]
  },
  {
   "cell_type": "markdown",
   "metadata": {},
   "source": [
    "As described, the fitted parameters were stored in `context` property, to access the context, just call:\n",
    "\n",
    "```python\n",
    "print(processed_tr.context)\n",
    "```\n",
    "Another example:"
   ]
  },
  {
   "cell_type": "code",
   "execution_count": 3,
   "metadata": {},
   "outputs": [
    {
     "name": "stdout",
     "output_type": "stream",
     "text": [
      "vocab size:  9643\n"
     ]
    }
   ],
   "source": [
    "print('vocab size: ', len(processed_tr.context['term_index']))"
   ]
  },
  {
   "cell_type": "markdown",
   "metadata": {},
   "source": [
    "**What has been stored in the `context?`** \n",
    "\n",
    "We stored `input_shapes` in the context property. Since CDSSM model's input shape is dynamic (it depends on user's training data to generate tri-letters), you **must** manually set models input shape, we'll discuss it in the model training section.\n",
    "\n",
    "**What is `cdssm_preprocessor` actually doing?**\n",
    "\n",
    "The `cdssm_preprocessor` is calling a sequence of `process_units`. Each `process_unit` is designed to perform one atom operation on input data. For instance, in `cdssm_preprocessor`, we called:\n",
    "\n",
    "1. TokenizeUnit: Perform tokenization on raw input data.\n",
    "2. LowercaseUnit: Transform all tokens into lower case.\n",
    "3. PuncRemovalUnit: Remove all the punctuations.\n",
    "4. StopRemovalUnit: Remove all the stopwords.\n",
    "5. NgramLetterUnit: Create n-gram-letters (by default we're creating tri-letters) as input data, for example: the token `test` we be transformed to `['#te', 'tes', 'est', 'st#']`.\n",
    "6. VocabularyUnit: Create vocabulary to get the dimensionality of `tri-letters`.\n",
    "7. WordHashingUnit: Create `WordHashing` layer as described in the paper.\n",
    "\n",
    "----\n",
    "\n",
    "### Data Generation\n",
    "\n",
    "For memory efficiency, we expect you to use **generator** to generate batches of data on the fly. For example, we can create a **PointGenerator** as follows:"
   ]
  },
  {
   "cell_type": "code",
   "execution_count": 4,
   "metadata": {},
   "outputs": [],
   "source": [
    "from matchzoo import generators\n",
    "from matchzoo import tasks\n",
    "generator_tr = generators.PointGenerator(inputs=processed_tr, task=tasks.Ranking(), batch_size=64, stage='train')\n",
    "generator_te = generators.PointGenerator(inputs=processed_te, task=tasks.Ranking(), batch_size=64, stage='predict')"
   ]
  },
  {
   "cell_type": "markdown",
   "metadata": {},
   "source": [
    "To get the first batch of trainig data, just call `X_train, y_train = generator[0]`.\n",
    "\n",
    "**What is PointGenerator?**\n",
    "**PointGenerator** is this case, it is assumed that each query-document pair in the training data has a numerical or ordinal score. Then the problem can be approximated by a regression/Classification problem — given a single query-document pair, predict its score.\n",
    "\n",
    "A number of existing supervised machine learning algorithms can be readily used for this purpose. Ordinal regression and classification algorithms can also be used in pointwise approach when they are used to predict the score of a single query-document pair, and it takes a small, finite number of values.\n",
    "\n",
    "**What is PairGenerator?**\n",
    "In this case, the problem is approximated by a classification problem — learning a binary classifier that can tell which document is better in a given pair of documents.\n",
    "\n",
    "In MatchZoo, **PairGenerator** generate one positive & `num_neg` negative examples per pair. As an example, to train a CDSSM model (for document ranking), we use `num_neg=4`. \n",
    "\n",
    "**What is ListGenerator?**\n",
    "This generator try to directly optimize the value of evaluation measures, averaged over all queries in the training data. \n",
    "\n",
    "Chosse the appropriate generator based on your `task`.\n",
    "\n",
    "----\n",
    "\n",
    "### Train Your CDSSM Model\n",
    "\n",
    "To train a CDSSM model, we need to create an instance of CDSSMModel:"
   ]
  },
  {
   "cell_type": "code",
   "execution_count": 5,
   "metadata": {},
   "outputs": [],
   "source": [
    "from matchzoo import models\n",
    "cdssm_model = models.CDSSMModel()"
   ]
  },
  {
   "cell_type": "markdown",
   "metadata": {},
   "source": [
    "Then, we need to set hyper-parameters to our CDSSM Model. In general, there are **two types of hyper-parameters**:\n",
    "\n",
    "**Required parameters**: For CDSSM, since the `input_shapes` depend on the dimensionality of fitted training data, you're required to set this parameter manually!"
   ]
  },
  {
   "cell_type": "code",
   "execution_count": 6,
   "metadata": {},
   "outputs": [],
   "source": [
    "# The fitted parameters is stored in the `context` property of pre-processor instance during the training stage.\n",
    "from matchzoo import losses\n",
    "from matchzoo import tasks\n",
    "input_shapes = processed_tr.context['input_shapes']\n",
    "cdssm_model.params['input_shapes'] = input_shapes\n",
    "cdssm_model.params['task'] = tasks.Ranking()"
   ]
  },
  {
   "cell_type": "markdown",
   "metadata": {},
   "source": [
    "**Tunable parameters**: For CDSSM, you're allowed to tune these parameters:\n",
    "\n",
    "```python\n",
    "from matchzoo import tasks\n",
    "\n",
    "params = {'w_initializer': 'glorot_normal', # see keras weight_initializer.\n",
    "          'b_initializer': 'zeros', # see keras bias_initializer.\n",
    "          'dim_fan_out': 128, # Dimension of output layer.\n",
    "          'dim_hidden': 300, # Dimension of hidden layer.\n",
    "          'contextual_window': 3, # Convolution window size.\n",
    "          'strides': 1, # An integer or tuple/list of n integers, specifying the dimensions of the convolution window.\n",
    "          'padding': 'same', # One of 'valid' or 'same' (case-insensitive).\n",
    "          'activation_hidden': 'tanh', # Activation function of hidden layer, see keras activation.\n",
    "          'num_hidden_layers': 2, # Number of hidden layers.\n",
    "          'optimizer': 'sgd', # By default, we're using sgd, see keras optimizer.\n",
    "          'task': tasks.Classification, # Default Classification, you can use tasks.Ranking\n",
    "          'loss': 'categorical_crossentropy', # categorical_crossentropy, see keras loss.\n",
    "          'metric': 'acc', # Accuracy by default, see keras metric.\n",
    "         }\n",
    "```"
   ]
  },
  {
   "cell_type": "markdown",
   "metadata": {},
   "source": [
    "Same as **required parameters**, use `cdssm_model.params['parameter-name'] = parameter-value` to set the hyper parameters. If you want to keep everything by default values, just use"
   ]
  },
  {
   "cell_type": "code",
   "execution_count": 7,
   "metadata": {},
   "outputs": [
    {
     "name": "stdout",
     "output_type": "stream",
     "text": [
      "cdssm parameters:  name                          CDSSMModel\n",
      "model_class                   <class 'matchzoo.models.cdssm_model.CDSSMModel'>\n",
      "input_shapes                  [(10, 9644), (10, 9644)]\n",
      "task                          <matchzoo.tasks.ranking.Ranking object at 0x10b995128>\n",
      "optimizer                     adam\n",
      "w_initializer                 glorot_normal\n",
      "b_initializer                 zeros\n",
      "dim_fan_out                   128\n",
      "dim_hidden                    300\n",
      "contextual_window             3\n",
      "strides                       1\n",
      "padding                       same\n",
      "activation_hidden             tanh\n",
      "num_hidden_layers             1\n"
     ]
    }
   ],
   "source": [
    "cdssm_model.guess_and_fill_missing_params()\n",
    "print('cdssm parameters: ', cdssm_model.params)"
   ]
  },
  {
   "cell_type": "markdown",
   "metadata": {},
   "source": [
    "#### Model Training\n",
    "\n",
    "To train the model after all the parameters were settled, call:"
   ]
  },
  {
   "cell_type": "code",
   "execution_count": 8,
   "metadata": {},
   "outputs": [
    {
     "name": "stdout",
     "output_type": "stream",
     "text": [
      "Epoch 1/5\n",
      "10/10 [==============================] - 19s 2s/step - loss: 0.0545\n",
      "Epoch 2/5\n",
      "10/10 [==============================] - 17s 2s/step - loss: 0.0504\n",
      "Epoch 3/5\n",
      "10/10 [==============================] - 17s 2s/step - loss: 0.0686\n",
      "Epoch 4/5\n",
      "10/10 [==============================] - 17s 2s/step - loss: 0.0553\n",
      "Epoch 5/5\n",
      "10/10 [==============================] - 17s 2s/step - loss: 0.0373\n"
     ]
    },
    {
     "data": {
      "text/plain": [
       "<keras.callbacks.History at 0x1162e5860>"
      ]
     },
     "execution_count": 8,
     "metadata": {},
     "output_type": "execute_result"
    }
   ],
   "source": [
    "cdssm_model.build()\n",
    "cdssm_model.compile()\n",
    "# Fit the cdssm model on generator.\n",
    "cdssm_model.fit_generator(generator_tr, steps_per_epoch=10, epochs=5)"
   ]
  },
  {
   "cell_type": "code",
   "execution_count": 9,
   "metadata": {},
   "outputs": [
    {
     "name": "stdout",
     "output_type": "stream",
     "text": [
      "Q1074/D1035-18 is predicted as [0.02018206]\n",
      "Q1460/D1389-1 is predicted as [0.01438587]\n",
      "Q1078/D1039-6 is predicted as [0.06169083]\n",
      "Q906/D875-0 is predicted as [-0.0068492]\n",
      "Q2424/D2274-1 is predicted as [-0.00912974]\n",
      "Q1409/D1342-3 is predicted as [-0.0175534]\n",
      "Q300/D299-16 is predicted as [0.02452929]\n",
      "Q825/D799-3 is predicted as [0.02799182]\n",
      "Q1572/D1490-10 is predicted as [-0.00797663]\n",
      "Q1817/D1719-1 is predicted as [-0.029648]\n",
      "Q952/D920-7 is predicted as [-0.00258087]\n",
      "Q2567/D2399-3 is predicted as [0.03467364]\n",
      "Q575/D566-3 is predicted as [0.00091233]\n",
      "Q763/D741-3 is predicted as [0.03215793]\n",
      "Q1510/D1433-14 is predicted as [0.0132237]\n",
      "Q844/D818-16 is predicted as [0.03309794]\n",
      "Q1195/D1144-5 is predicted as [0.00305198]\n",
      "Q1240/D1187-4 is predicted as [0.03019216]\n",
      "Q683/D666-4 is predicted as [0.00861257]\n",
      "Q1416/D1349-2 is predicted as [0.04684409]\n",
      "Q2738/D2551-2 is predicted as [0.02158942]\n",
      "Q784/D758-9 is predicted as [0.00087857]\n",
      "Q242/D242-0 is predicted as [0.05272244]\n",
      "Q724/D704-8 is predicted as [0.0445103]\n",
      "Q1937/D453-9 is predicted as [-0.00879083]\n",
      "Q1418/D1241-12 is predicted as [0.0235133]\n",
      "Q911/D880-6 is predicted as [0.02690798]\n",
      "Q2738/D2551-3 is predicted as [0.00190746]\n",
      "Q1466/D1394-3 is predicted as [0.03774764]\n",
      "Q1288/D1232-1 is predicted as [-0.0319989]\n",
      "Q1478/D1404-4 is predicted as [0.05227911]\n",
      "Q540/D531-0 is predicted as [0.04360565]\n",
      "Q2803/D2604-10 is predicted as [0.00913735]\n",
      "Q2279/D2144-3 is predicted as [0.02892561]\n",
      "Q1297/D1241-8 is predicted as [0.00998538]\n",
      "Q1842/D674-16 is predicted as [-0.01985027]\n",
      "Q1714/D1625-5 is predicted as [0.01691392]\n",
      "Q1275/D1219-1 is predicted as [0.03845683]\n",
      "Q1021/D984-15 is predicted as [0.0566649]\n",
      "Q1860/D1759-0 is predicted as [0.02834]\n",
      "Q1758/D1665-18 is predicted as [0.02698151]\n",
      "Q404/D330-2 is predicted as [0.02069564]\n",
      "Q607/D596-18 is predicted as [-0.00167623]\n",
      "Q434/D429-3 is predicted as [0.04145924]\n",
      "Q2843/D2640-3 is predicted as [-0.00813072]\n",
      "Q2201/D2074-1 is predicted as [-0.02874716]\n",
      "Q780/D754-10 is predicted as [0.02481217]\n",
      "Q1064/D1027-2 is predicted as [0.01221499]\n",
      "Q2810/D2610-18 is predicted as [0.03563464]\n",
      "Q2283/D2148-0 is predicted as [0.01433991]\n",
      "Q309/D308-6 is predicted as [0.02425951]\n",
      "Q1586/D1504-4 is predicted as [0.02292359]\n",
      "Q800/D774-15 is predicted as [0.02186638]\n",
      "Q1583/D1501-5 is predicted as [0.0373427]\n",
      "Q1067/D467-18 is predicted as [-0.01610062]\n",
      "Q292/D291-6 is predicted as [0.02066287]\n",
      "Q2618/D858-8 is predicted as [-0.00262816]\n",
      "Q1163/D240-5 is predicted as [0.0837463]\n",
      "Q1879/D1776-6 is predicted as [0.05193861]\n",
      "Q1922/D1815-3 is predicted as [0.00088598]\n",
      "Q1465/D1393-18 is predicted as [0.0322266]\n",
      "Q2228/D2099-1 is predicted as [-0.03238782]\n",
      "Q1739/D418-3 is predicted as [0.03079364]\n",
      "Q1517/D1439-0 is predicted as [0.00514427]\n"
     ]
    }
   ],
   "source": [
    "# Make predictions on the first batch of test data\n",
    "X_te, y_te = generator_te[0]\n",
    "predictions = cdssm_model.predict([X_te.text_left, X_te.text_right])\n",
    "for id_left, id_right, pred in zip(X_te.id_left, X_te.id_right, predictions):\n",
    "    print(\"{}/{} is predicted as {}\".format(id_left, id_right, pred))"
   ]
  },
  {
   "cell_type": "markdown",
   "metadata": {},
   "source": [
    "#### Model Persistence\n",
    "\n",
    "You can persist your trained model using `model.save()` and `load_model` function:\n",
    "\n",
    "```python\n",
    "from matchzoo import engine\n",
    "# Save the model to dir.\n",
    "cdssm_model.save('/your-model-saved-path')\n",
    "# And load the model from dir.\n",
    "engine.load_model('/your-model-saved-path')\n",
    "```"
   ]
  },
  {
   "cell_type": "markdown",
   "metadata": {},
   "source": [
    "## Reference\n",
    "\n",
    "[Huang et al. 2013] Po-Sen Huang, Xiaodong He, Jianfeng Gao, Li Deng, Alex Acero, and Larry Heck. 2013. Learning deep structured semantic models for web search using clickthrough data. In Proc. CIKM. ACM, 2333–2338.\n",
    "\n",
    "[Shen et al. 2014] Shen Y, He X, Gao J, et al. 2014. A Latent Semantic Model with Convolutional-Pooling Structure for Information Retrieval[J]. In Proc. CIKM. ACM, 101-110."
   ]
  }
 ],
 "metadata": {
  "kernelspec": {
   "display_name": "Python 3",
   "language": "python",
   "name": "python3"
  },
  "language_info": {
   "codemirror_mode": {
    "name": "ipython",
    "version": 3
   },
   "file_extension": ".py",
   "mimetype": "text/x-python",
   "name": "python",
   "nbconvert_exporter": "python",
   "pygments_lexer": "ipython3",
   "version": "3.6.6"
  }
 },
 "nbformat": 4,
 "nbformat_minor": 2
}
